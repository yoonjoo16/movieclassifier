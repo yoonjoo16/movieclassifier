{
 "cells": [
  {
   "cell_type": "markdown",
   "id": "da46ab4e",
   "metadata": {},
   "source": [
    "Load the vectorizer and classifier."
   ]
  },
  {
   "cell_type": "code",
   "execution_count": 2,
   "id": "47e6d4bf",
   "metadata": {},
   "outputs": [],
   "source": [
    "import pickle\n",
    "import re\n",
    "import os\n",
    "from vectorizer import vect\n",
    "clf = pickle.load(open(os.path.join('pkl_objects', 'classifier.pkl'), 'rb'))"
   ]
  },
  {
   "cell_type": "code",
   "execution_count": 3,
   "id": "46a60246",
   "metadata": {},
   "outputs": [],
   "source": [
    "import numpy as np\n",
    "label = {0: 'negative', 1:'positive'}\n",
    "example=['I love this movie']\n",
    "X = vect.transform(example)"
   ]
  },
  {
   "cell_type": "code",
   "execution_count": 8,
   "id": "c3bd20de",
   "metadata": {},
   "outputs": [
    {
     "name": "stdout",
     "output_type": "stream",
     "text": [
      "positive\n"
     ]
    }
   ],
   "source": [
    "pred = clf.predict(X)\n",
    "\n",
    "print(label[pred[0]])"
   ]
  }
 ],
 "metadata": {
  "kernelspec": {
   "display_name": "Python 3 (ipykernel)",
   "language": "python",
   "name": "python3"
  },
  "language_info": {
   "codemirror_mode": {
    "name": "ipython",
    "version": 3
   },
   "file_extension": ".py",
   "mimetype": "text/x-python",
   "name": "python",
   "nbconvert_exporter": "python",
   "pygments_lexer": "ipython3",
   "version": "3.9.7"
  }
 },
 "nbformat": 4,
 "nbformat_minor": 5
}
